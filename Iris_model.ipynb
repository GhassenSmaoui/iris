{
  "nbformat": 4,
  "nbformat_minor": 0,
  "metadata": {
    "colab": {
      "name": "Iris_model.ipynb",
      "provenance": [],
      "collapsed_sections": [],
      "include_colab_link": true
    },
    "kernelspec": {
      "name": "python3",
      "display_name": "Python 3"
    },
    "accelerator": "GPU"
  },
  "cells": [
    {
      "cell_type": "markdown",
      "metadata": {
        "id": "view-in-github",
        "colab_type": "text"
      },
      "source": [
        "<a href=\"https://colab.research.google.com/github/GhassenSmaoui/iris/blob/master/Iris_model.ipynb\" target=\"_parent\"><img src=\"https://colab.research.google.com/assets/colab-badge.svg\" alt=\"Open In Colab\"/></a>"
      ]
    },
    {
      "cell_type": "markdown",
      "metadata": {
        "id": "1GP1S014iYif",
        "colab_type": "text"
      },
      "source": [
        "Starting by importing the needed libraries "
      ]
    },
    {
      "cell_type": "code",
      "metadata": {
        "id": "rVSBQwWLKOCC",
        "colab_type": "code",
        "colab": {}
      },
      "source": [
        "import pandas as pd\n",
        "import numpy as np\n",
        "import matplotlib.pyplot as plt\n",
        "%matplotlib inline"
      ],
      "execution_count": 0,
      "outputs": []
    },
    {
      "cell_type": "markdown",
      "metadata": {
        "id": "wgnNivQ-iid7",
        "colab_type": "text"
      },
      "source": [
        "Importing Tensorflow 2.0"
      ]
    },
    {
      "cell_type": "code",
      "metadata": {
        "id": "D7Nt0MvuozwD",
        "colab_type": "code",
        "outputId": "58c3fbac-5654-4385-b7ec-b0c30290a9e5",
        "colab": {
          "base_uri": "https://localhost:8080/",
          "height": 35
        }
      },
      "source": [
        "try:\n",
        "  # Use the %tensorflow_version magic if in colab.\n",
        "  %tensorflow_version 2.x\n",
        "except Exception:\n",
        "  pass\n",
        "\n",
        "import tensorflow as tf"
      ],
      "execution_count": 2,
      "outputs": [
        {
          "output_type": "stream",
          "text": [
            "TensorFlow 2.x selected.\n"
          ],
          "name": "stdout"
        }
      ]
    },
    {
      "cell_type": "code",
      "metadata": {
        "id": "3ac17mIZqajK",
        "colab_type": "code",
        "outputId": "cca216f8-63b4-48a5-bc0f-a69098d672d7",
        "colab": {
          "base_uri": "https://localhost:8080/",
          "height": 35
        }
      },
      "source": [
        "from sklearn.datasets import load_iris\n",
        "from sklearn.model_selection import train_test_split\n",
        "from sklearn import preprocessing # the preprocessing module is used to scale the data (normalize it) in order for the model to converge fast\n",
        "iris = load_iris()\n",
        "iris['target'].shape\n",
        "iris.data.shape"
      ],
      "execution_count": 3,
      "outputs": [
        {
          "output_type": "execute_result",
          "data": {
            "text/plain": [
              "(150, 4)"
            ]
          },
          "metadata": {
            "tags": []
          },
          "execution_count": 3
        }
      ]
    },
    {
      "cell_type": "code",
      "metadata": {
        "id": "AxWznKo8TWi0",
        "colab_type": "code",
        "colab": {}
      },
      "source": [
        "Y = tf.keras.utils.to_categorical(iris['target'], dtype='int')"
      ],
      "execution_count": 0,
      "outputs": []
    },
    {
      "cell_type": "code",
      "metadata": {
        "id": "t2-cW59SNQgG",
        "colab_type": "code",
        "colab": {}
      },
      "source": [
        "X_train, X_test , Y_train , Y_test = train_test_split(preprocessing.scale(iris['data']), Y, random_state = 0)"
      ],
      "execution_count": 0,
      "outputs": []
    },
    {
      "cell_type": "markdown",
      "metadata": {
        "id": "aYRxm34wEWgU",
        "colab_type": "text"
      },
      "source": [
        "The below cell introduces a function that transforms the target to categorical type of data that is used for multiclass classification"
      ]
    },
    {
      "cell_type": "code",
      "metadata": {
        "colab_type": "code",
        "id": "9ODch-OFCaW4",
        "colab": {}
      },
      "source": [
        "model = tf.keras.Sequential([\n",
        "    tf.keras.layers.Dense(units = 8, input_shape = [4], activation = tf.nn.leaky_relu),\n",
        "    tf.keras.layers.Dense(8, input_shape = [8], activation=tf.nn.leaky_relu),\n",
        "    tf.keras.layers.Dense(8, input_shape = [8], activation=tf.nn.leaky_relu),\n",
        "    tf.keras.layers.Dense(8, input_shape = [8], activation=tf.nn.leaky_relu),\n",
        "    tf.keras.layers.Dense(3, input_shape = [8], activation=tf.nn.softmax)\n",
        "])"
      ],
      "execution_count": 0,
      "outputs": []
    },
    {
      "cell_type": "code",
      "metadata": {
        "colab_type": "code",
        "id": "Lhan11blCaW7",
        "colab": {}
      },
      "source": [
        "model.compile(optimizer=tf.keras.optimizers.Adam(0.001),\n",
        "              loss='categorical_crossentropy'\n",
        "             )"
      ],
      "execution_count": 0,
      "outputs": []
    },
    {
      "cell_type": "code",
      "metadata": {
        "id": "lVMDJy2djZtG",
        "colab_type": "code",
        "outputId": "82dc2474-fa3a-459a-be2a-4004231df904",
        "colab": {
          "base_uri": "https://localhost:8080/",
          "height": 35
        }
      },
      "source": [
        "Y_train.shape"
      ],
      "execution_count": 8,
      "outputs": [
        {
          "output_type": "execute_result",
          "data": {
            "text/plain": [
              "(112, 3)"
            ]
          },
          "metadata": {
            "tags": []
          },
          "execution_count": 8
        }
      ]
    },
    {
      "cell_type": "code",
      "metadata": {
        "colab_type": "code",
        "id": "xvwvpA64CaW_",
        "outputId": "8df1283e-6688-49c9-e469-6e2b88ca3062",
        "colab": {
          "base_uri": "https://localhost:8080/",
          "height": 35
        }
      },
      "source": [
        "#model.fit(train_dataset, epochs=5, steps_per_epoch=math.ceil(num_train_examples/BATCH_SIZE))\n",
        "history = model.fit(X_train, Y_train, epochs=1000,  verbose=False)\n",
        "print(\"Finished training the model\")"
      ],
      "execution_count": 9,
      "outputs": [
        {
          "output_type": "stream",
          "text": [
            "Finished training the model\n"
          ],
          "name": "stdout"
        }
      ]
    },
    {
      "cell_type": "code",
      "metadata": {
        "id": "7B4mAV9HqHeb",
        "colab_type": "code",
        "outputId": "92a55e39-abad-4636-aa58-8b9a320db7af",
        "colab": {
          "base_uri": "https://localhost:8080/",
          "height": 297
        }
      },
      "source": [
        "import matplotlib.pyplot as plt\n",
        "plt.xlabel('Epoch Number')\n",
        "plt.ylabel(\"Loss Magnitude\")\n",
        "plt.plot(history.history['loss'])\n"
      ],
      "execution_count": 10,
      "outputs": [
        {
          "output_type": "execute_result",
          "data": {
            "text/plain": [
              "[<matplotlib.lines.Line2D at 0x7ff7901e1898>]"
            ]
          },
          "metadata": {
            "tags": []
          },
          "execution_count": 10
        },
        {
          "output_type": "display_data",
          "data": {
            "image/png": "[encoded data removed]",
            "text/plain": [
              "<Figure size 432x288 with 1 Axes>"
            ]
          },
          "metadata": {
            "tags": []
          }
        }
      ]
    },
    {
      "cell_type": "code",
      "metadata": {
        "id": "IrHgn-I52HWu",
        "colab_type": "code",
        "colab": {}
      },
      "source": [
        ""
      ],
      "execution_count": 0,
      "outputs": []
    },
    {
      "cell_type": "code",
      "metadata": {
        "id": "uq6541Bh1-ls",
        "colab_type": "code",
        "colab": {}
      },
      "source": [
        " train_prediction = model.predict(X_train)\n",
        " train_prediction_integer = np.zeros(train_prediction.shape, dtype=int)"
      ],
      "execution_count": 0,
      "outputs": []
    },
    {
      "cell_type": "code",
      "metadata": {
        "id": "qWN-QqkeBlmQ",
        "colab_type": "code",
        "colab": {}
      },
      "source": [
        "for i in range(train_prediction.shape[0]):\n",
        "  train_prediction_integer[i,np.argmax(train_prediction[i])] = 1"
      ],
      "execution_count": 0,
      "outputs": []
    },
    {
      "cell_type": "code",
      "metadata": {
        "id": "AJfdzDWX8xYD",
        "colab_type": "code",
        "outputId": "9a418a04-72c3-4d4f-8909-6ed90e228ebd",
        "colab": {
          "base_uri": "https://localhost:8080/",
          "height": 201
        }
      },
      "source": [
        "train_prediction_integer[0:10]"
      ],
      "execution_count": 13,
      "outputs": [
        {
          "output_type": "execute_result",
          "data": {
            "text/plain": [
              "array([[0, 1, 0],\n",
              "       [0, 1, 0],\n",
              "       [0, 0, 1],\n",
              "       [1, 0, 0],\n",
              "       [0, 0, 1],\n",
              "       [1, 0, 0],\n",
              "       [1, 0, 0],\n",
              "       [0, 1, 0],\n",
              "       [0, 0, 1],\n",
              "       [0, 0, 1]])"
            ]
          },
          "metadata": {
            "tags": []
          },
          "execution_count": 13
        }
      ]
    },
    {
      "cell_type": "code",
      "metadata": {
        "id": "oN2U2GAn-jnR",
        "colab_type": "code",
        "outputId": "879cec21-0c4b-4f54-e18a-8fc8f95aa99b",
        "colab": {
          "base_uri": "https://localhost:8080/",
          "height": 35
        }
      },
      "source": [
        "inc = 0\n",
        "for i in range(Y_train.shape[0]):\n",
        "  if np.array_equal(Y_train[i], train_prediction_integer[i]):\n",
        "    inc +=1\n",
        "performance_value = (inc /Y_train.shape[0])*100\n",
        "print (performance_value) "
      ],
      "execution_count": 17,
      "outputs": [
        {
          "output_type": "stream",
          "text": [
            "100.0\n"
          ],
          "name": "stdout"
        }
      ]
    },
    {
      "cell_type": "code",
      "metadata": {
        "id": "ksJHXRq32nbo",
        "colab_type": "code",
        "outputId": "c70eb0be-0e48-4623-b770-538e6a581f00",
        "colab": {
          "base_uri": "https://localhost:8080/",
          "height": 109
        }
      },
      "source": [
        "Y_test[0:5]"
      ],
      "execution_count": 18,
      "outputs": [
        {
          "output_type": "execute_result",
          "data": {
            "text/plain": [
              "array([[0, 0, 1],\n",
              "       [0, 1, 0],\n",
              "       [1, 0, 0],\n",
              "       [0, 0, 1],\n",
              "       [1, 0, 0]])"
            ]
          },
          "metadata": {
            "tags": []
          },
          "execution_count": 18
        }
      ]
    },
    {
      "cell_type": "code",
      "metadata": {
        "colab_type": "code",
        "id": "qRKjFLwCluwo",
        "colab": {}
      },
      "source": [
        " test_prediction = model.predict(X_test)\n",
        " test_prediction_integer = np.zeros(test_prediction.shape, dtype=int)"
      ],
      "execution_count": 0,
      "outputs": []
    },
    {
      "cell_type": "code",
      "metadata": {
        "colab_type": "code",
        "id": "KMZl9TxBmKDz",
        "colab": {}
      },
      "source": [
        "for i in range(test_prediction.shape[0]):\n",
        "  test_prediction_integer[i,np.argmax(test_prediction[i])] = 1"
      ],
      "execution_count": 0,
      "outputs": []
    },
    {
      "cell_type": "code",
      "metadata": {
        "colab_type": "code",
        "outputId": "b69d8d68-83ab-45ea-c489-0eb2a9a341cc",
        "id": "R02z1jr1mZUy",
        "colab": {
          "base_uri": "https://localhost:8080/",
          "height": 35
        }
      },
      "source": [
        "inc = 0\n",
        "for i in range(Y_test.shape[0]):\n",
        "  if np.array_equal(Y_test[i], test_prediction_integer[i]):\n",
        "    inc +=1\n",
        "test_performance_value = (inc /Y_test.shape[0])*100\n",
        "print (test_performance_value) "
      ],
      "execution_count": 24,
      "outputs": [
        {
          "output_type": "stream",
          "text": [
            "97.36842105263158\n"
          ],
          "name": "stdout"
        }
      ]
    }
  ]
}