{
  "nbformat": 4,
  "nbformat_minor": 0,
  "metadata": {
    "colab": {
      "name": "Iris_model.ipynb",
      "provenance": [],
      "collapsed_sections": [],
      "include_colab_link": true
    },
    "kernelspec": {
      "name": "python3",
      "display_name": "Python 3"
    },
    "accelerator": "GPU"
  },
  "cells": [
    {
      "cell_type": "markdown",
      "metadata": {
        "id": "view-in-github",
        "colab_type": "text"
      },
      "source": [
        "<a href=\"https://colab.research.google.com/github/GhassenSmaoui/iris/blob/master/Iris_model.ipynb\" target=\"_parent\"><img src=\"https://colab.research.google.com/assets/colab-badge.svg\" alt=\"Open In Colab\"/></a>"
      ]
    },
    {
      "cell_type": "markdown",
      "metadata": {
        "id": "1GP1S014iYif",
        "colab_type": "text"
      },
      "source": [
        "Starting by importing the needed libraries "
      ]
    },
    {
      "cell_type": "code",
      "metadata": {
        "id": "rVSBQwWLKOCC",
        "colab_type": "code",
        "colab": {}
      },
      "source": [
        "import pandas as pd\n",
        "import numpy as np\n",
        "import matplotlib.pyplot as plt\n",
        "%matplotlib inline"
      ],
      "execution_count": 0,
      "outputs": []
    },
    {
      "cell_type": "markdown",
      "metadata": {
        "id": "wgnNivQ-iid7",
        "colab_type": "text"
      },
      "source": [
        "Importing Tensorflow 2.0"
      ]
    },
    {
      "cell_type": "code",
      "metadata": {
        "id": "D7Nt0MvuozwD",
        "colab_type": "code",
        "colab": {}
      },
      "source": [
        "try:\n",
        "  # Use the %tensorflow_version magic if in colab.\n",
        "  %tensorflow_version 2.x\n",
        "except Exception:\n",
        "  pass\n",
        "\n",
        "import tensorflow as tf"
      ],
      "execution_count": 0,
      "outputs": []
    },
    {
      "cell_type": "markdown",
      "metadata": {
        "id": "DbuHbWyYoBL9",
        "colab_type": "text"
      },
      "source": [
        "Then import the necessairy functions from scikit learn API such as the load_iris funtion to load the pre-existing dataset, train_test_split to plit the data into a training set and a test set and the proprocessing funtcion to normalize the data in order for the model to converge faster "
      ]
    },
    {
      "cell_type": "code",
      "metadata": {
        "id": "3ac17mIZqajK",
        "colab_type": "code",
        "outputId": "4cbdc1a4-df82-42f0-9ffb-761a2c7c4df0",
        "colab": {
          "base_uri": "https://localhost:8080/",
          "height": 35
        }
      },
      "source": [
        "from sklearn.datasets import load_iris\n",
        "from sklearn.model_selection import train_test_split\n",
        "from sklearn import preprocessing \n",
        "iris = load_iris()\n",
        "iris['target'].shape\n",
        "iris.data.shape"
      ],
      "execution_count": 6,
      "outputs": [
        {
          "output_type": "execute_result",
          "data": {
            "text/plain": [
              "(150, 4)"
            ]
          },
          "metadata": {
            "tags": []
          },
          "execution_count": 6
        }
      ]
    },
    {
      "cell_type": "code",
      "metadata": {
        "id": "MefGqhgMowoh",
        "colab_type": "code",
        "colab": {
          "base_uri": "https://localhost:8080/",
          "height": 146
        },
        "outputId": "b5c2c10b-6bf0-4861-e99c-dc81ac2ba94a"
      },
      "source": [
        "iris['target']"
      ],
      "execution_count": 7,
      "outputs": [
        {
          "output_type": "execute_result",
          "data": {
            "text/plain": [
              "array([0, 0, 0, 0, 0, 0, 0, 0, 0, 0, 0, 0, 0, 0, 0, 0, 0, 0, 0, 0, 0, 0,\n",
              "       0, 0, 0, 0, 0, 0, 0, 0, 0, 0, 0, 0, 0, 0, 0, 0, 0, 0, 0, 0, 0, 0,\n",
              "       0, 0, 0, 0, 0, 0, 1, 1, 1, 1, 1, 1, 1, 1, 1, 1, 1, 1, 1, 1, 1, 1,\n",
              "       1, 1, 1, 1, 1, 1, 1, 1, 1, 1, 1, 1, 1, 1, 1, 1, 1, 1, 1, 1, 1, 1,\n",
              "       1, 1, 1, 1, 1, 1, 1, 1, 1, 1, 1, 1, 2, 2, 2, 2, 2, 2, 2, 2, 2, 2,\n",
              "       2, 2, 2, 2, 2, 2, 2, 2, 2, 2, 2, 2, 2, 2, 2, 2, 2, 2, 2, 2, 2, 2,\n",
              "       2, 2, 2, 2, 2, 2, 2, 2, 2, 2, 2, 2, 2, 2, 2, 2, 2, 2])"
            ]
          },
          "metadata": {
            "tags": []
          },
          "execution_count": 7
        }
      ]
    },
    {
      "cell_type": "markdown",
      "metadata": {
        "id": "CRu--o_DkVMp",
        "colab_type": "text"
      },
      "source": [
        "as mentionned in the secription of the dataset: \n",
        "\n",
        "*   0 represents satosa\n",
        "*   1 represents versicolor\n",
        "*   2 represents virginica\n",
        "\n"
      ]
    },
    {
      "cell_type": "code",
      "metadata": {
        "id": "AxWznKo8TWi0",
        "colab_type": "code",
        "colab": {}
      },
      "source": [
        "Y = tf.keras.utils.to_categorical(iris['target'], dtype='int')"
      ],
      "execution_count": 0,
      "outputs": []
    },
    {
      "cell_type": "code",
      "metadata": {
        "id": "t2-cW59SNQgG",
        "colab_type": "code",
        "colab": {}
      },
      "source": [
        "X_train, X_test , Y_train , Y_test = train_test_split(preprocessing.scale(iris['data']), Y, random_state = 0)"
      ],
      "execution_count": 0,
      "outputs": []
    },
    {
      "cell_type": "markdown",
      "metadata": {
        "id": "aYRxm34wEWgU",
        "colab_type": "text"
      },
      "source": [
        "The below cell introduces a function that transforms the target to categorical type of data that is used for multiclass classification"
      ]
    },
    {
      "cell_type": "code",
      "metadata": {
        "id": "H61qwJpQTZOI",
        "colab_type": "code",
        "colab": {}
      },
      "source": [
        "Y_train"
      ],
      "execution_count": 0,
      "outputs": []
    },
    {
      "cell_type": "code",
      "metadata": {
        "colab_type": "code",
        "id": "9ODch-OFCaW4",
        "colab": {}
      },
      "source": [
        "model = tf.keras.Sequential([\n",
        "    tf.keras.layers.Dense(units = 8, input_shape = [4], activation = tf.nn.leaky_relu),\n",
        "    tf.keras.layers.Dense(8, input_shape = [8], activation=tf.nn.leaky_relu),\n",
        "    tf.keras.layers.Dense(8, input_shape = [8], activation=tf.nn.leaky_relu),\n",
        "    tf.keras.layers.Dense(8, input_shape = [8], activation=tf.nn.leaky_relu),\n",
        "    tf.keras.layers.Dense(3, input_shape = [8], activation=tf.nn.softmax)\n",
        "])"
      ],
      "execution_count": 0,
      "outputs": []
    },
    {
      "cell_type": "code",
      "metadata": {
        "colab_type": "code",
        "id": "Lhan11blCaW7",
        "colab": {}
      },
      "source": [
        "model.compile(optimizer=tf.keras.optimizers.Adam(0.001),\n",
        "              loss='categorical_crossentropy'\n",
        "             )"
      ],
      "execution_count": 0,
      "outputs": []
    },
    {
      "cell_type": "code",
      "metadata": {
        "id": "lVMDJy2djZtG",
        "colab_type": "code",
        "outputId": "b9671cd1-84cf-4cc8-bf0b-d707f5135d21",
        "colab": {
          "base_uri": "https://localhost:8080/",
          "height": 35
        }
      },
      "source": [
        "Y_train.shape"
      ],
      "execution_count": 13,
      "outputs": [
        {
          "output_type": "execute_result",
          "data": {
            "text/plain": [
              "(112, 3)"
            ]
          },
          "metadata": {
            "tags": []
          },
          "execution_count": 13
        }
      ]
    },
    {
      "cell_type": "code",
      "metadata": {
        "colab_type": "code",
        "id": "xvwvpA64CaW_",
        "outputId": "5ffa83f8-498a-4ad1-94e8-9069e76daac1",
        "colab": {
          "base_uri": "https://localhost:8080/",
          "height": 35
        }
      },
      "source": [
        "#model.fit(train_dataset, epochs=5, steps_per_epoch=math.ceil(num_train_examples/BATCH_SIZE))\n",
        "history = model.fit(X_train, Y_train, epochs=1000,  verbose=False)\n",
        "print(\"Finished training the model\")"
      ],
      "execution_count": 14,
      "outputs": [
        {
          "output_type": "stream",
          "text": [
            "Finished training the model\n"
          ],
          "name": "stdout"
        }
      ]
    },
    {
      "cell_type": "code",
      "metadata": {
        "id": "7B4mAV9HqHeb",
        "colab_type": "code",
        "outputId": "97414589-09bc-4875-a1b4-bbbafdca6061",
        "colab": {
          "base_uri": "https://localhost:8080/",
          "height": 297
        }
      },
      "source": [
        "import matplotlib.pyplot as plt\n",
        "plt.xlabel('Epoch Number')\n",
        "plt.ylabel(\"Loss Magnitude\")\n",
        "plt.plot(history.history['loss'])\n"
      ],
      "execution_count": 15,
      "outputs": [
        {
          "output_type": "execute_result",
          "data": {
            "text/plain": [
              "[<matplotlib.lines.Line2D at 0x7ff3e01ed898>]"
            ]
          },
          "metadata": {
            "tags": []
          },
          "execution_count": 15
        },
        {
          "output_type": "display_data",
          "data": {
            "image/png": "[encoded data removed]",
            "text/plain": [
              "<Figure size 432x288 with 1 Axes>"
            ]
          },
          "metadata": {
            "tags": []
          }
        }
      ]
    },
    {
      "cell_type": "code",
      "metadata": {
        "id": "uq6541Bh1-ls",
        "colab_type": "code",
        "colab": {}
      },
      "source": [
        " train_prediction = model.predict(X_train)\n",
        " train_prediction_integer = np.zeros(train_prediction.shape, dtype=int)"
      ],
      "execution_count": 0,
      "outputs": []
    },
    {
      "cell_type": "code",
      "metadata": {
        "id": "qWN-QqkeBlmQ",
        "colab_type": "code",
        "colab": {}
      },
      "source": [
        "for i in range(train_prediction.shape[0]):\n",
        "  train_prediction_integer[i,np.argmax(train_prediction[i])] = 1"
      ],
      "execution_count": 0,
      "outputs": []
    },
    {
      "cell_type": "code",
      "metadata": {
        "id": "oN2U2GAn-jnR",
        "colab_type": "code",
        "outputId": "04a59e9a-3026-41e3-fe1c-cd261bc4f46c",
        "colab": {
          "base_uri": "https://localhost:8080/",
          "height": 35
        }
      },
      "source": [
        "inc = 0\n",
        "for i in range(Y_train.shape[0]):\n",
        "  if np.array_equal(Y_train[i], train_prediction_integer[i]):\n",
        "    inc +=1\n",
        "performance_value = (inc /Y_train.shape[0])*100\n",
        "print (performance_value) "
      ],
      "execution_count": 18,
      "outputs": [
        {
          "output_type": "stream",
          "text": [
            "100.0\n"
          ],
          "name": "stdout"
        }
      ]
    },
    {
      "cell_type": "code",
      "metadata": {
        "id": "ksJHXRq32nbo",
        "colab_type": "code",
        "outputId": "c3815627-7ac0-4888-aaa3-85dcad3493e2",
        "colab": {
          "base_uri": "https://localhost:8080/",
          "height": 109
        }
      },
      "source": [
        "Y_test[0:5]"
      ],
      "execution_count": 19,
      "outputs": [
        {
          "output_type": "execute_result",
          "data": {
            "text/plain": [
              "array([[0, 0, 1],\n",
              "       [0, 1, 0],\n",
              "       [1, 0, 0],\n",
              "       [0, 0, 1],\n",
              "       [1, 0, 0]])"
            ]
          },
          "metadata": {
            "tags": []
          },
          "execution_count": 19
        }
      ]
    },
    {
      "cell_type": "code",
      "metadata": {
        "colab_type": "code",
        "id": "qRKjFLwCluwo",
        "colab": {}
      },
      "source": [
        " test_prediction = model.predict(X_test)\n",
        " test_prediction_integer = np.zeros(test_prediction.shape, dtype=int)"
      ],
      "execution_count": 0,
      "outputs": []
    },
    {
      "cell_type": "code",
      "metadata": {
        "colab_type": "code",
        "id": "KMZl9TxBmKDz",
        "colab": {}
      },
      "source": [
        "for i in range(test_prediction.shape[0]):\n",
        "  test_prediction_integer[i,np.argmax(test_prediction[i])] = 1"
      ],
      "execution_count": 0,
      "outputs": []
    },
    {
      "cell_type": "code",
      "metadata": {
        "colab_type": "code",
        "outputId": "1a6452c8-de9c-4361-d1b7-aa983aba0080",
        "id": "R02z1jr1mZUy",
        "colab": {
          "base_uri": "https://localhost:8080/",
          "height": 35
        }
      },
      "source": [
        "inc = 0\n",
        "for i in range(Y_test.shape[0]):\n",
        "  if np.array_equal(Y_test[i], test_prediction_integer[i]):\n",
        "    inc +=1\n",
        "test_performance_value = (inc /Y_test.shape[0])*100\n",
        "print (test_performance_value) "
      ],
      "execution_count": 22,
      "outputs": [
        {
          "output_type": "stream",
          "text": [
            "97.36842105263158\n"
          ],
          "name": "stdout"
        }
      ]
    },
    {
      "cell_type": "code",
      "metadata": {
        "id": "55_p9rTJB6s6",
        "colab_type": "code",
        "colab": {
          "base_uri": "https://localhost:8080/",
          "height": 219
        },
        "outputId": "7822149b-95b2-4119-e4f9-c53c5373fb5a"
      },
      "source": [
        "#Accuracy of the predicted values in the train set\n",
        "from sklearn.metrics import classification_report,confusion_matrix\n",
        "print(classification_report(Y_train,train_prediction_integer))\n",
        "#print(confusion_matrix(Y_test,test_prediction_integer))"
      ],
      "execution_count": 25,
      "outputs": [
        {
          "output_type": "stream",
          "text": [
            "              precision    recall  f1-score   support\n",
            "\n",
            "           0       1.00      1.00      1.00        37\n",
            "           1       1.00      1.00      1.00        34\n",
            "           2       1.00      1.00      1.00        41\n",
            "\n",
            "   micro avg       1.00      1.00      1.00       112\n",
            "   macro avg       1.00      1.00      1.00       112\n",
            "weighted avg       1.00      1.00      1.00       112\n",
            " samples avg       1.00      1.00      1.00       112\n",
            "\n"
          ],
          "name": "stdout"
        }
      ]
    },
    {
      "cell_type": "code",
      "metadata": {
        "id": "1HhO1AoJ6BtA",
        "colab_type": "code",
        "colab": {
          "base_uri": "https://localhost:8080/",
          "height": 219
        },
        "outputId": "6e700b29-e174-427c-d6c7-1ede4c346fc6"
      },
      "source": [
        "\n",
        "#Accuracy of the predicted values in the test set\n",
        "print(classification_report(Y_test,test_prediction_integer))\n",
        "#print(confusion_matrix(Y_test,test_prediction_integer))\n",
        "\n"
      ],
      "execution_count": 26,
      "outputs": [
        {
          "output_type": "stream",
          "text": [
            "              precision    recall  f1-score   support\n",
            "\n",
            "           0       1.00      1.00      1.00        13\n",
            "           1       1.00      0.94      0.97        16\n",
            "           2       0.90      1.00      0.95         9\n",
            "\n",
            "   micro avg       0.97      0.97      0.97        38\n",
            "   macro avg       0.97      0.98      0.97        38\n",
            "weighted avg       0.98      0.97      0.97        38\n",
            " samples avg       0.97      0.97      0.97        38\n",
            "\n"
          ],
          "name": "stdout"
        }
      ]
    }
  ]
}