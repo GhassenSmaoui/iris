{
  "nbformat": 4,
  "nbformat_minor": 0,
  "metadata": {
    "colab": {
      "name": "Iris_model.ipynb",
      "provenance": [],
      "collapsed_sections": [],
      "include_colab_link": true
    },
    "kernelspec": {
      "name": "python3",
      "display_name": "Python 3"
    }
  },
  "cells": [
    {
      "cell_type": "markdown",
      "metadata": {
        "id": "view-in-github",
        "colab_type": "text"
      },
      "source": [
        "<a href=\"https://colab.research.google.com/github/GhassenSmaoui/iris/blob/master/Iris_model.ipynb\" target=\"_parent\"><img src=\"https://colab.research.google.com/assets/colab-badge.svg\" alt=\"Open In Colab\"/></a>"
      ]
    },
    {
      "cell_type": "markdown",
      "metadata": {
        "id": "1GP1S014iYif",
        "colab_type": "text"
      },
      "source": [
        "Starting by importing the needed libraries "
      ]
    },
    {
      "cell_type": "code",
      "metadata": {
        "id": "rVSBQwWLKOCC",
        "colab_type": "code",
        "colab": {}
      },
      "source": [
        "import pandas as pd\n",
        "import numpy as np\n",
        "import matplotlib.pyplot as plt\n",
        "%matplotlib inline"
      ],
      "execution_count": 0,
      "outputs": []
    },
    {
      "cell_type": "markdown",
      "metadata": {
        "id": "wgnNivQ-iid7",
        "colab_type": "text"
      },
      "source": [
        "Importing Tensorflow 2.0"
      ]
    },
    {
      "cell_type": "code",
      "metadata": {
        "id": "D7Nt0MvuozwD",
        "colab_type": "code",
        "colab": {}
      },
      "source": [
        "try:\n",
        "  # Use the %tensorflow_version magic if in colab.\n",
        "  %tensorflow_version 2.x\n",
        "except Exception:\n",
        "  pass\n",
        "\n",
        "import tensorflow as tf"
      ],
      "execution_count": 0,
      "outputs": []
    },
    {
      "cell_type": "markdown",
      "metadata": {
        "id": "DbuHbWyYoBL9",
        "colab_type": "text"
      },
      "source": [
        "Then import the necessairy functions from scikit learn API such as the load_iris funtion to load the pre-existing dataset, train_test_split to plit the data into a training set and a test set and the proprocessing funtcion to normalize the data in order for the model to converge faster "
      ]
    },
    {
      "cell_type": "code",
      "metadata": {
        "id": "3ac17mIZqajK",
        "colab_type": "code",
        "colab": {}
      },
      "source": [
        "from sklearn.datasets import load_iris\n",
        "from sklearn.model_selection import train_test_split\n",
        "from sklearn import preprocessing \n"
      ],
      "execution_count": 0,
      "outputs": []
    },
    {
      "cell_type": "code",
      "metadata": {
        "id": "6MlvxOopQ3Z_",
        "colab_type": "code",
        "colab": {}
      },
      "source": [
        "iris = load_iris()\n"
      ],
      "execution_count": 0,
      "outputs": []
    },
    {
      "cell_type": "code",
      "metadata": {
        "id": "zyBDXxVTRFO-",
        "colab_type": "code",
        "colab": {}
      },
      "source": [
        "dir(iris) # examining the attributes of the iris module "
      ],
      "execution_count": 0,
      "outputs": []
    },
    {
      "cell_type": "code",
      "metadata": {
        "id": "30RVcXLaRJJt",
        "colab_type": "code",
        "colab": {}
      },
      "source": [
        "iris.keys()"
      ],
      "execution_count": 0,
      "outputs": []
    },
    {
      "cell_type": "code",
      "metadata": {
        "id": "nZEuro1JROrM",
        "colab_type": "code",
        "colab": {}
      },
      "source": [
        "iris.DESCR"
      ],
      "execution_count": 0,
      "outputs": []
    },
    {
      "cell_type": "code",
      "metadata": {
        "id": "2GgzEoJeTlhZ",
        "colab_type": "code",
        "colab": {}
      },
      "source": [
        "iris.feature_names"
      ],
      "execution_count": 0,
      "outputs": []
    },
    {
      "cell_type": "code",
      "metadata": {
        "id": "uKVhnmjHZOBR",
        "colab_type": "code",
        "colab": {}
      },
      "source": [
        "iris.target_names"
      ],
      "execution_count": 0,
      "outputs": []
    },
    {
      "cell_type": "code",
      "metadata": {
        "id": "ArYjrdnWZWYu",
        "colab_type": "code",
        "colab": {}
      },
      "source": [
        "iris.target"
      ],
      "execution_count": 0,
      "outputs": []
    },
    {
      "cell_type": "markdown",
      "metadata": {
        "id": "CRu--o_DkVMp",
        "colab_type": "text"
      },
      "source": [
        "as mentionned in the secription of the dataset: \n",
        "\n",
        "*   0 represents satosa\n",
        "*   1 represents versicolor\n",
        "*   2 represents virginica\n",
        "\n"
      ]
    },
    {
      "cell_type": "code",
      "metadata": {
        "id": "sWwEUqqWZcZV",
        "colab_type": "code",
        "colab": {}
      },
      "source": [
        "iris.target.shape"
      ],
      "execution_count": 0,
      "outputs": []
    },
    {
      "cell_type": "code",
      "metadata": {
        "id": "P43gmcvZZ2J8",
        "colab_type": "code",
        "colab": {}
      },
      "source": [
        "iris.data"
      ],
      "execution_count": 0,
      "outputs": []
    },
    {
      "cell_type": "code",
      "metadata": {
        "id": "tTjKdDSNaAls",
        "colab_type": "code",
        "colab": {}
      },
      "source": [
        "iris.data.shape"
      ],
      "execution_count": 0,
      "outputs": []
    },
    {
      "cell_type": "code",
      "metadata": {
        "id": "2BDwoZgkaHUk",
        "colab_type": "code",
        "colab": {}
      },
      "source": [
        "x_index = 0\n",
        "y_index = 1\n",
        "\n",
        "# this formatter will label the colorbar with the correct target names\n",
        "formatter = plt.FuncFormatter(lambda i, *args: iris.target_names[int(i)])\n",
        "\n",
        "plt.figure(figsize=(5, 4))\n",
        "plt.scatter(iris.data[:, x_index], iris.data[:, y_index], c=iris.target)\n",
        "plt.colorbar(ticks=[0, 1, 2], format=formatter)\n",
        "plt.xlabel(iris.feature_names[x_index])\n",
        "plt.ylabel(iris.feature_names[y_index])\n",
        "\n",
        "plt.tight_layout()\n",
        "plt.show()"
      ],
      "execution_count": 0,
      "outputs": []
    },
    {
      "cell_type": "code",
      "metadata": {
        "id": "Xaa0pQ3Oad46",
        "colab_type": "code",
        "colab": {}
      },
      "source": [
        "x_index = 0\n",
        "y_index = 2\n",
        "\n",
        "# this formatter will label the colorbar with the correct target names\n",
        "formatter = plt.FuncFormatter(lambda i, *args: iris.target_names[int(i)])\n",
        "\n",
        "plt.figure(figsize=(5, 4))\n",
        "plt.scatter(iris.data[:, x_index], iris.data[:, y_index], c=iris.target)\n",
        "plt.colorbar(ticks=[0, 1, 2], format=formatter)\n",
        "plt.xlabel(iris.feature_names[x_index])\n",
        "plt.ylabel(iris.feature_names[y_index])\n",
        "\n",
        "plt.tight_layout()\n",
        "plt.show()"
      ],
      "execution_count": 0,
      "outputs": []
    },
    {
      "cell_type": "code",
      "metadata": {
        "id": "B4oK7-RRarMR",
        "colab_type": "code",
        "colab": {}
      },
      "source": [
        "x_index = 0\n",
        "y_index = 3\n",
        "\n",
        "# this formatter will label the colorbar with the correct target names\n",
        "formatter = plt.FuncFormatter(lambda i, *args: iris.target_names[int(i)])\n",
        "\n",
        "plt.figure(figsize=(5, 4))\n",
        "plt.scatter(iris.data[:, x_index], iris.data[:, y_index], c=iris.target)\n",
        "plt.colorbar(ticks=[0, 1, 2], format=formatter)\n",
        "plt.xlabel(iris.feature_names[x_index])\n",
        "plt.ylabel(iris.feature_names[y_index])\n",
        "\n",
        "plt.tight_layout()\n",
        "plt.show()"
      ],
      "execution_count": 0,
      "outputs": []
    },
    {
      "cell_type": "code",
      "metadata": {
        "id": "0QzuEDaNa27h",
        "colab_type": "code",
        "colab": {}
      },
      "source": [
        "x_index = 1\n",
        "y_index = 3\n",
        "\n",
        "# this formatter will label the colorbar with the correct target names\n",
        "formatter = plt.FuncFormatter(lambda i, *args: iris.target_names[int(i)])\n",
        "\n",
        "plt.figure(figsize=(5, 4))\n",
        "plt.scatter(iris.data[:, x_index], iris.data[:, y_index], c=iris.target)\n",
        "plt.colorbar(ticks=[0, 1, 2], format=formatter)\n",
        "plt.xlabel(iris.feature_names[x_index])\n",
        "plt.ylabel(iris.feature_names[y_index])\n",
        "\n",
        "plt.tight_layout()\n",
        "plt.show()"
      ],
      "execution_count": 0,
      "outputs": []
    },
    {
      "cell_type": "code",
      "metadata": {
        "id": "kdeoytF-bZmf",
        "colab_type": "code",
        "colab": {}
      },
      "source": [
        "from sklearn.utils import shuffle"
      ],
      "execution_count": 0,
      "outputs": []
    },
    {
      "cell_type": "code",
      "metadata": {
        "id": "2aAs6ryJ3qKs",
        "colab_type": "code",
        "colab": {}
      },
      "source": [
        "X,Y = shuffle(iris.data, iris.target, random_state = 0)"
      ],
      "execution_count": 0,
      "outputs": []
    },
    {
      "cell_type": "code",
      "metadata": {
        "id": "YBtVZDRc4SWN",
        "colab_type": "code",
        "colab": {}
      },
      "source": [
        "Y"
      ],
      "execution_count": 0,
      "outputs": []
    },
    {
      "cell_type": "code",
      "metadata": {
        "id": "UT0m-roq4ilQ",
        "colab_type": "code",
        "colab": {}
      },
      "source": [
        "X = preprocessing.scale(X)"
      ],
      "execution_count": 0,
      "outputs": []
    },
    {
      "cell_type": "code",
      "metadata": {
        "id": "FU7a0FCl444M",
        "colab_type": "code",
        "colab": {}
      },
      "source": [
        "Y_categorical = tf.keras.utils.to_categorical(Y, dtype='int')"
      ],
      "execution_count": 0,
      "outputs": []
    },
    {
      "cell_type": "code",
      "metadata": {
        "id": "MCfGXavc5Pbr",
        "colab_type": "code",
        "colab": {}
      },
      "source": [
        "Y_categorical[:10]"
      ],
      "execution_count": 0,
      "outputs": []
    },
    {
      "cell_type": "code",
      "metadata": {
        "id": "-nJOGf6E5cqq",
        "colab_type": "code",
        "colab": {}
      },
      "source": [
        "X_train, X_test , Y_train , Y_test = train_test_split(X, Y_categorical, random_state = 0)"
      ],
      "execution_count": 0,
      "outputs": []
    },
    {
      "cell_type": "code",
      "metadata": {
        "colab_type": "code",
        "id": "I1g5dWNt5xZJ",
        "colab": {
          "base_uri": "https://localhost:8080/",
          "height": 34
        },
        "outputId": "c5594543-56e2-45d8-c728-23000d53b9d3"
      },
      "source": [
        "Y_train.shape"
      ],
      "execution_count": 25,
      "outputs": [
        {
          "output_type": "execute_result",
          "data": {
            "text/plain": [
              "(112, 3)"
            ]
          },
          "metadata": {
            "tags": []
          },
          "execution_count": 25
        }
      ]
    },
    {
      "cell_type": "code",
      "metadata": {
        "id": "HWDs7Xk96AvN",
        "colab_type": "code",
        "colab": {}
      },
      "source": [
        "X_train.shape"
      ],
      "execution_count": 0,
      "outputs": []
    },
    {
      "cell_type": "code",
      "metadata": {
        "colab_type": "code",
        "id": "kYaDioSS8K_e",
        "colab": {}
      },
      "source": [
        "model = tf.keras.Sequential([\n",
        "    tf.keras.layers.Dense(units = 8, input_shape = [4], activation=tf.nn.leaky_relu),\n",
        "    tf.keras.layers.Dense(units = 8, input_shape = [8], activation=tf.nn.leaky_relu),\n",
        "    tf.keras.layers.Dense(units = 8, input_shape = [8], activation=tf.nn.leaky_relu),\n",
        "    tf.keras.layers.Dense(units = 8, input_shape = [8], activation=tf.nn.leaky_relu),\n",
        "    tf.keras.layers.Dense(units = 3, input_shape = [8], activation=tf.nn.softmax)\n",
        "])"
      ],
      "execution_count": 0,
      "outputs": []
    },
    {
      "cell_type": "code",
      "metadata": {
        "colab_type": "code",
        "id": "GNAq_lHh8Rac",
        "colab": {}
      },
      "source": [
        "model.compile(optimizer=tf.keras.optimizers.Adam(0.001),\n",
        "              loss='categorical_crossentropy'\n",
        "             )"
      ],
      "execution_count": 0,
      "outputs": []
    },
    {
      "cell_type": "code",
      "metadata": {
        "colab_type": "code",
        "outputId": "55d7e7c1-69be-4462-ff37-e4d572b6f5df",
        "id": "lQRr5qBm8cJw",
        "colab": {
          "base_uri": "https://localhost:8080/",
          "height": 34
        }
      },
      "source": [
        "#model.fit(train_dataset, epochs=5, steps_per_epoch=math.ceil(num_train_examples/BATCH_SIZE))\n",
        "history = model.fit(X_train, Y_train, epochs=1000,  verbose=False)\n",
        "print(\"Finished training the model\")"
      ],
      "execution_count": 29,
      "outputs": [
        {
          "output_type": "stream",
          "text": [
            "Finished training the model\n"
          ],
          "name": "stdout"
        }
      ]
    },
    {
      "cell_type": "code",
      "metadata": {
        "id": "5PJOX3_q6Lsh",
        "colab_type": "code",
        "colab": {}
      },
      "source": [
        ""
      ],
      "execution_count": 0,
      "outputs": []
    },
    {
      "cell_type": "code",
      "metadata": {
        "colab_type": "code",
        "id": "6jIr1iVmE3qC",
        "colab": {}
      },
      "source": [
        "\n",
        "plt.xlabel('Epoch Number')\n",
        "plt.ylabel(\"Loss Magnitude\")\n",
        "plt.plot(history.history['loss'])\n"
      ],
      "execution_count": 0,
      "outputs": []
    },
    {
      "cell_type": "code",
      "metadata": {
        "id": "uq6541Bh1-ls",
        "colab_type": "code",
        "colab": {}
      },
      "source": [
        " train_prediction = model.predict(X_train)\n",
        " "
      ],
      "execution_count": 0,
      "outputs": []
    },
    {
      "cell_type": "code",
      "metadata": {
        "id": "qWN-QqkeBlmQ",
        "colab_type": "code",
        "colab": {}
      },
      "source": [
        "train_prediction_integer = np.zeros(train_prediction.shape, dtype=int)\n",
        "for i in range(train_prediction.shape[0]):\n",
        "  train_prediction_integer[i,np.argmax(train_prediction[i])] = 1"
      ],
      "execution_count": 0,
      "outputs": []
    },
    {
      "cell_type": "code",
      "metadata": {
        "id": "oN2U2GAn-jnR",
        "colab_type": "code",
        "colab": {}
      },
      "source": [
        "inc = 0\n",
        "for i in range(Y_train.shape[0]):\n",
        "  if np.array_equal(Y_train[i], train_prediction_integer[i]):\n",
        "    inc +=1\n",
        "performance_value = (inc /Y_train.shape[0])*100\n",
        "print (performance_value) "
      ],
      "execution_count": 0,
      "outputs": []
    },
    {
      "cell_type": "code",
      "metadata": {
        "colab_type": "code",
        "id": "qRKjFLwCluwo",
        "colab": {}
      },
      "source": [
        " test_prediction = model.predict(X_test)\n"
      ],
      "execution_count": 0,
      "outputs": []
    },
    {
      "cell_type": "code",
      "metadata": {
        "colab_type": "code",
        "id": "KMZl9TxBmKDz",
        "colab": {}
      },
      "source": [
        " test_prediction_integer = np.zeros(test_prediction.shape, dtype=int)\n",
        "for i in range(test_prediction.shape[0]):\n",
        "  test_prediction_integer[i,np.argmax(test_prediction[i])] = 1"
      ],
      "execution_count": 0,
      "outputs": []
    },
    {
      "cell_type": "code",
      "metadata": {
        "colab_type": "code",
        "outputId": "0465af8a-c1b1-4985-e379-ad7d7083401a",
        "id": "R02z1jr1mZUy",
        "colab": {
          "base_uri": "https://localhost:8080/",
          "height": 34
        }
      },
      "source": [
        "inc = 0\n",
        "for i in range(Y_test.shape[0]):\n",
        "  if np.array_equal(Y_test[i], test_prediction_integer[i]):\n",
        "    inc +=1\n",
        "test_performance_value = (inc /Y_test.shape[0])*100\n",
        "print (test_performance_value) "
      ],
      "execution_count": 36,
      "outputs": [
        {
          "output_type": "stream",
          "text": [
            "94.73684210526315\n"
          ],
          "name": "stdout"
        }
      ]
    },
    {
      "cell_type": "code",
      "metadata": {
        "id": "55_p9rTJB6s6",
        "colab_type": "code",
        "colab": {}
      },
      "source": [
        "#Accuracy of the predicted values in the train set\n",
        "from sklearn.metrics import classification_report,confusion_matrix\n",
        "print(classification_report(Y_train,train_prediction_integer))\n"
      ],
      "execution_count": 0,
      "outputs": []
    },
    {
      "cell_type": "code",
      "metadata": {
        "id": "1HhO1AoJ6BtA",
        "colab_type": "code",
        "colab": {}
      },
      "source": [
        "\n",
        "#Accuracy of the predicted values in the test set\n",
        "print(classification_report(Y_test,test_prediction_integer))\n",
        "\n",
        "\n"
      ],
      "execution_count": 0,
      "outputs": []
    }
  ]
}